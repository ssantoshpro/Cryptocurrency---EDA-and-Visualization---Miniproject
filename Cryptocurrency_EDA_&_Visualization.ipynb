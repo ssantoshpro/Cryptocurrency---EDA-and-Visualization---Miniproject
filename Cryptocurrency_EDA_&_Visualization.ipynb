{
 "cells": [
  {
   "cell_type": "markdown",
   "id": "11b4400f",
   "metadata": {},
   "source": [
    "# Mini Project on EDA and Visualization"
   ]
  },
  {
   "cell_type": "markdown",
   "id": "d2cbeb9a",
   "metadata": {},
   "source": [
    "Welcome to the Use Case Challenge, In this Scenario,You are supposed to perform a EDA and Visualization on Top100 list of Cryptocurrencies dataset."
   ]
  },
  {
   "cell_type": "markdown",
   "id": "88a619a5",
   "metadata": {},
   "source": [
    "**Instructions:**\n",
    "- Add Extra cells for coding if neccessary.\n",
    "- Finally restart kernel and run all the cells after the completion of the challenge."
   ]
  },
  {
   "cell_type": "markdown",
   "id": "ebff269c",
   "metadata": {},
   "source": [
    "### Run the below cell to import the dataset file and the basic neccessary packages"
   ]
  },
  {
   "cell_type": "markdown",
   "id": "8c8c2e1a",
   "metadata": {},
   "source": [
    "**Note:** These are the essential packages required to complete this task, please select appropriate modules from the packages listed below to complete the task depending on the specified situations."
   ]
  },
  {
   "cell_type": "code",
   "execution_count": 1,
   "id": "7c324774",
   "metadata": {},
   "outputs": [
    {
     "name": "stdout",
     "output_type": "stream",
     "text": [
      "--2022-04-25 05:00:43--  https://hr-projects-assets-prod.s3.amazonaws.com/ct7fl6bona6/b1093f2c1c57d266329c1cce18ee34ad/Data.csv\n",
      "Resolving hr-projects-assets-prod.s3.amazonaws.com (hr-projects-assets-prod.s3.amazonaws.com)... 52.217.84.140\n",
      "Connecting to hr-projects-assets-prod.s3.amazonaws.com (hr-projects-assets-prod.s3.amazonaws.com)|52.217.84.140|:443... connected.\n",
      "HTTP request sent, awaiting response... 200 OK\n",
      "Length: 6102 (6.0K) [binary/octet-stream]\n",
      "Saving to: ‘Data.csv’\n",
      "\n",
      "Data.csv            100%[===================>]   5.96K  --.-KB/s    in 0s      \n",
      "\n",
      "2022-04-25 05:00:43 (95.5 MB/s) - ‘Data.csv’ saved [6102/6102]\n",
      "\n"
     ]
    }
   ],
   "source": [
    "!wget https://hr-projects-assets-prod.s3.amazonaws.com/ct7fl6bona6/b1093f2c1c57d266329c1cce18ee34ad/Data.csv"
   ]
  },
  {
   "cell_type": "code",
   "execution_count": 2,
   "id": "8501121e",
   "metadata": {},
   "outputs": [],
   "source": [
    "import pandas as pd\n",
    "import numpy as np\n",
    "import matplotlib.pyplot as plt\n",
    "import seaborn as sns"
   ]
  },
  {
   "cell_type": "markdown",
   "id": "9a392483",
   "metadata": {},
   "source": [
    "### Load the Dataset"
   ]
  },
  {
   "cell_type": "markdown",
   "id": "fb445fd1",
   "metadata": {},
   "source": [
    "**Note:**\n",
    "- Read the dataset only from the Data.csv file and save it in the variable df.\n",
    "- Don't use other data files like Data.csv.1, Data.csv.2, Data.csv.3,.....etc"
   ]
  },
  {
   "cell_type": "code",
   "execution_count": 3,
   "id": "31cf37d2",
   "metadata": {},
   "outputs": [
    {
     "data": {
      "text/html": [
       "<div>\n",
       "<style scoped>\n",
       "    .dataframe tbody tr th:only-of-type {\n",
       "        vertical-align: middle;\n",
       "    }\n",
       "\n",
       "    .dataframe tbody tr th {\n",
       "        vertical-align: top;\n",
       "    }\n",
       "\n",
       "    .dataframe thead th {\n",
       "        text-align: right;\n",
       "    }\n",
       "</style>\n",
       "<table border=\"1\" class=\"dataframe\">\n",
       "  <thead>\n",
       "    <tr style=\"text-align: right;\">\n",
       "      <th></th>\n",
       "      <th>Rank</th>\n",
       "      <th>Currency_Name</th>\n",
       "      <th>Market_Capital</th>\n",
       "      <th>Price</th>\n",
       "      <th>Circulating_Supply</th>\n",
       "      <th>Volume(24h)</th>\n",
       "      <th>Change(24h)</th>\n",
       "    </tr>\n",
       "  </thead>\n",
       "  <tbody>\n",
       "    <tr>\n",
       "      <th>0</th>\n",
       "      <td>1</td>\n",
       "      <td>Bitcoin</td>\n",
       "      <td>6.021918e+10</td>\n",
       "      <td>3631.72</td>\n",
       "      <td>1.658145e+07</td>\n",
       "      <td>1.226800e+09</td>\n",
       "      <td>-0.0084</td>\n",
       "    </tr>\n",
       "    <tr>\n",
       "      <th>1</th>\n",
       "      <td>2</td>\n",
       "      <td>Ethereum</td>\n",
       "      <td>2.506128e+10</td>\n",
       "      <td>264.44</td>\n",
       "      <td>9.477220e+07</td>\n",
       "      <td>4.625760e+08</td>\n",
       "      <td>0.0132</td>\n",
       "    </tr>\n",
       "    <tr>\n",
       "      <th>2</th>\n",
       "      <td>3</td>\n",
       "      <td>Bitcoin Cash</td>\n",
       "      <td>6.815418e+09</td>\n",
       "      <td>410.47</td>\n",
       "      <td>1.660378e+07</td>\n",
       "      <td>2.608570e+08</td>\n",
       "      <td>-0.0322</td>\n",
       "    </tr>\n",
       "    <tr>\n",
       "      <th>3</th>\n",
       "      <td>4</td>\n",
       "      <td>Ripple</td>\n",
       "      <td>6.646330e+09</td>\n",
       "      <td>0.17</td>\n",
       "      <td>3.834384e+10</td>\n",
       "      <td>4.194500e+07</td>\n",
       "      <td>-0.0042</td>\n",
       "    </tr>\n",
       "    <tr>\n",
       "      <th>4</th>\n",
       "      <td>5</td>\n",
       "      <td>Dash</td>\n",
       "      <td>2.607961e+09</td>\n",
       "      <td>344.36</td>\n",
       "      <td>7.573378e+06</td>\n",
       "      <td>9.714230e+07</td>\n",
       "      <td>0.0362</td>\n",
       "    </tr>\n",
       "  </tbody>\n",
       "</table>\n",
       "</div>"
      ],
      "text/plain": [
       "   Rank Currency_Name  Market_Capital    Price  Circulating_Supply  \\\n",
       "0     1       Bitcoin    6.021918e+10  3631.72        1.658145e+07   \n",
       "1     2      Ethereum    2.506128e+10   264.44        9.477220e+07   \n",
       "2     3  Bitcoin Cash    6.815418e+09   410.47        1.660378e+07   \n",
       "3     4        Ripple    6.646330e+09     0.17        3.834384e+10   \n",
       "4     5          Dash    2.607961e+09   344.36        7.573378e+06   \n",
       "\n",
       "    Volume(24h)  Change(24h)  \n",
       "0  1.226800e+09      -0.0084  \n",
       "1  4.625760e+08       0.0132  \n",
       "2  2.608570e+08      -0.0322  \n",
       "3  4.194500e+07      -0.0042  \n",
       "4  9.714230e+07       0.0362  "
      ]
     },
     "execution_count": 3,
     "metadata": {},
     "output_type": "execute_result"
    }
   ],
   "source": [
    "#Write your code here\n",
    "df = pd.read_csv('Data.csv')\n",
    "df.head()"
   ]
  },
  {
   "cell_type": "markdown",
   "id": "28d67a6b",
   "metadata": {},
   "source": [
    "## Question 1"
   ]
  },
  {
   "cell_type": "markdown",
   "id": "abd0fe1a",
   "metadata": {},
   "source": [
    "### Extract the first 3 rows of your dataframe then convert it into dictionary with the column names as the key values and their values as list into a dictionary then assign to A1 variable."
   ]
  },
  {
   "cell_type": "markdown",
   "id": "3aba71db",
   "metadata": {},
   "source": [
    "\n",
    "**Note:** The output must be in the following format\n",
    "\n",
    "        {Column_Name : List}\n",
    "        \n",
    "**Example**\n",
    "\n",
    "        { 'S.no' : [1,2,3,4],\n",
    "          'Name' : ['GridCoin','Golos','BlackCion','Groestlcoin']\n",
    "           ........}\n",
    "           "
   ]
  },
  {
   "cell_type": "code",
   "execution_count": 4,
   "id": "14d57920",
   "metadata": {},
   "outputs": [
    {
     "data": {
      "text/html": [
       "<div>\n",
       "<style scoped>\n",
       "    .dataframe tbody tr th:only-of-type {\n",
       "        vertical-align: middle;\n",
       "    }\n",
       "\n",
       "    .dataframe tbody tr th {\n",
       "        vertical-align: top;\n",
       "    }\n",
       "\n",
       "    .dataframe thead th {\n",
       "        text-align: right;\n",
       "    }\n",
       "</style>\n",
       "<table border=\"1\" class=\"dataframe\">\n",
       "  <thead>\n",
       "    <tr style=\"text-align: right;\">\n",
       "      <th></th>\n",
       "      <th>Rank</th>\n",
       "      <th>Currency_Name</th>\n",
       "      <th>Market_Capital</th>\n",
       "      <th>Price</th>\n",
       "      <th>Circulating_Supply</th>\n",
       "      <th>Volume(24h)</th>\n",
       "      <th>Change(24h)</th>\n",
       "    </tr>\n",
       "  </thead>\n",
       "  <tbody>\n",
       "    <tr>\n",
       "      <th>0</th>\n",
       "      <td>1</td>\n",
       "      <td>Bitcoin</td>\n",
       "      <td>6.021918e+10</td>\n",
       "      <td>3631.72</td>\n",
       "      <td>16581450.0</td>\n",
       "      <td>1.226800e+09</td>\n",
       "      <td>-0.0084</td>\n",
       "    </tr>\n",
       "    <tr>\n",
       "      <th>1</th>\n",
       "      <td>2</td>\n",
       "      <td>Ethereum</td>\n",
       "      <td>2.506128e+10</td>\n",
       "      <td>264.44</td>\n",
       "      <td>94772198.0</td>\n",
       "      <td>4.625760e+08</td>\n",
       "      <td>0.0132</td>\n",
       "    </tr>\n",
       "    <tr>\n",
       "      <th>2</th>\n",
       "      <td>3</td>\n",
       "      <td>Bitcoin Cash</td>\n",
       "      <td>6.815418e+09</td>\n",
       "      <td>410.47</td>\n",
       "      <td>16603775.0</td>\n",
       "      <td>2.608570e+08</td>\n",
       "      <td>-0.0322</td>\n",
       "    </tr>\n",
       "  </tbody>\n",
       "</table>\n",
       "</div>"
      ],
      "text/plain": [
       "   Rank Currency_Name  Market_Capital    Price  Circulating_Supply  \\\n",
       "0     1       Bitcoin    6.021918e+10  3631.72          16581450.0   \n",
       "1     2      Ethereum    2.506128e+10   264.44          94772198.0   \n",
       "2     3  Bitcoin Cash    6.815418e+09   410.47          16603775.0   \n",
       "\n",
       "    Volume(24h)  Change(24h)  \n",
       "0  1.226800e+09      -0.0084  \n",
       "1  4.625760e+08       0.0132  \n",
       "2  2.608570e+08      -0.0322  "
      ]
     },
     "execution_count": 4,
     "metadata": {},
     "output_type": "execute_result"
    }
   ],
   "source": [
    "top_3_data = df[:3]\n",
    "top_3_data"
   ]
  },
  {
   "cell_type": "code",
   "execution_count": 40,
   "id": "09687633",
   "metadata": {},
   "outputs": [
    {
     "name": "stdout",
     "output_type": "stream",
     "text": [
      "{'Rank': [1, 2, 3], 'Currency_Name': ['Bitcoin', 'Ethereum', 'Bitcoin Cash'], 'Market_Capital': [60219183594.0, 25061275598.0, 6815417939.0], 'Price': [3631.72, 264.44, 410.47], 'Circulating_Supply': [16581450.0, 94772198.0, 16603775.0], 'Volume(24h)': [1226800000.0, 462576000.0, 260857000.0], 'Change(24h)': [-0.0084, 0.0132, -0.0322]}\n"
     ]
    }
   ],
   "source": [
    "dic = {}\n",
    "for i in range(0,len(top_3_data.columns)) :\n",
    "    dic.update({top_3_data.columns[i]:list(top_3_data.iloc[:,i].values)})\n",
    "print(dic)"
   ]
  },
  {
   "cell_type": "code",
   "execution_count": 41,
   "id": "01bbafc6",
   "metadata": {},
   "outputs": [],
   "source": [
    "#Write your code here\n",
    "A1 = dic"
   ]
  },
  {
   "cell_type": "markdown",
   "id": "32cf9e1c",
   "metadata": {},
   "source": [
    "## Question 2"
   ]
  },
  {
   "cell_type": "markdown",
   "id": "4f9d8b6d",
   "metadata": {},
   "source": [
    "### Return the Curreny_Name which has highest value in Price column and assign to A2 varaible."
   ]
  },
  {
   "cell_type": "markdown",
   "id": "91fc5f60",
   "metadata": {},
   "source": [
    "**Note:** The Output must be String\n"
   ]
  },
  {
   "cell_type": "code",
   "execution_count": 56,
   "id": "aa0c09b4",
   "metadata": {},
   "outputs": [
    {
     "data": {
      "text/plain": [
       "'Bitcoin'"
      ]
     },
     "execution_count": 56,
     "metadata": {},
     "output_type": "execute_result"
    }
   ],
   "source": [
    "df['Currency_Name'].iloc[df['Price'].idxmax()]"
   ]
  },
  {
   "cell_type": "code",
   "execution_count": 58,
   "id": "1ef25314",
   "metadata": {},
   "outputs": [],
   "source": [
    "#Write your code here\n",
    "A2=df['Currency_Name'].iloc[df['Price'].idxmax()]"
   ]
  },
  {
   "cell_type": "markdown",
   "id": "ae5d64fc",
   "metadata": {},
   "source": [
    "## Question 3"
   ]
  },
  {
   "cell_type": "markdown",
   "id": "fd17c31d",
   "metadata": {},
   "source": [
    "### Return the mean value of the Change(24h) column and assign to A3 variable."
   ]
  },
  {
   "cell_type": "markdown",
   "id": "103b1439",
   "metadata": {},
   "source": [
    "**Note:** The Output must be Float value"
   ]
  },
  {
   "cell_type": "code",
   "execution_count": 60,
   "id": "e265c8dc",
   "metadata": {},
   "outputs": [
    {
     "data": {
      "text/plain": [
       "0.013364000000000003"
      ]
     },
     "execution_count": 60,
     "metadata": {},
     "output_type": "execute_result"
    }
   ],
   "source": [
    "df['Change(24h)'].mean()"
   ]
  },
  {
   "cell_type": "code",
   "execution_count": 61,
   "id": "d31c3e9a",
   "metadata": {},
   "outputs": [],
   "source": [
    "#Write your code here\n",
    "A3=df['Change(24h)'].mean()"
   ]
  },
  {
   "cell_type": "markdown",
   "id": "4e55163f",
   "metadata": {},
   "source": [
    "## Question 4"
   ]
  },
  {
   "cell_type": "markdown",
   "id": "a643a303",
   "metadata": {},
   "source": [
    "### Return the sorted (Ascending order) list of currency names which are having Market_Capital greater than '2000000000'  and Price greater than or equal to '200'. Assign to A4 variable.\n"
   ]
  },
  {
   "cell_type": "markdown",
   "id": "308580f4",
   "metadata": {},
   "source": [
    "**Note:** The Output must be list"
   ]
  },
  {
   "cell_type": "code",
   "execution_count": 81,
   "id": "9d184aba",
   "metadata": {},
   "outputs": [
    {
     "data": {
      "text/plain": [
       "['Bitcoin', 'Bitcoin Cash', 'Dash', 'Ethereum']"
      ]
     },
     "execution_count": 81,
     "metadata": {},
     "output_type": "execute_result"
    }
   ],
   "source": [
    "sorted(df[(df['Market_Capital'] > 2000000000) & (df['Price'] >= 200)]['Currency_Name'].values.tolist())\n"
   ]
  },
  {
   "cell_type": "code",
   "execution_count": 82,
   "id": "a5fffe7a",
   "metadata": {},
   "outputs": [],
   "source": [
    "#Write your code here\n",
    "A4=sorted(df[(df['Market_Capital'] > 2000000000) & (df['Price'] >= 200)]['Currency_Name'].values.tolist())\n"
   ]
  },
  {
   "cell_type": "markdown",
   "id": "37d8b5cf",
   "metadata": {},
   "source": [
    "## Question 5"
   ]
  },
  {
   "cell_type": "markdown",
   "id": "150343c5",
   "metadata": {},
   "source": [
    "### Return the lowest value in Volume(24h) column and Assign to A5 variable."
   ]
  },
  {
   "cell_type": "markdown",
   "id": "5ec07bef",
   "metadata": {},
   "source": [
    "**Note:** Output must be Float value."
   ]
  },
  {
   "cell_type": "code",
   "execution_count": 85,
   "id": "b46a27af",
   "metadata": {},
   "outputs": [
    {
     "data": {
      "text/plain": [
       "4460.0"
      ]
     },
     "execution_count": 85,
     "metadata": {},
     "output_type": "execute_result"
    }
   ],
   "source": [
    "df['Volume(24h)'].min()"
   ]
  },
  {
   "cell_type": "code",
   "execution_count": 87,
   "id": "624990b3",
   "metadata": {},
   "outputs": [],
   "source": [
    "#Write your code here\n",
    "A5=df['Volume(24h)'].min()"
   ]
  },
  {
   "cell_type": "markdown",
   "id": "6f8caa11",
   "metadata": {},
   "source": [
    "## Question 6"
   ]
  },
  {
   "cell_type": "markdown",
   "id": "262a3126",
   "metadata": {},
   "source": [
    "### Draw the Heatmap with correlation between Rank, Marcket Captial, Price, Circulating_Supply, Volume(24h) and Change(24h). Assign to A6 variable."
   ]
  },
  {
   "cell_type": "markdown",
   "id": "50f5b30d",
   "metadata": {},
   "source": [
    "**Instructions:**\n",
    "- Use seaborn\n",
    "- Create a figure with figsize(15,8)\n",
    "- xlabel,ylabel,title must be present\n",
    "- Plot the heatmap"
   ]
  },
  {
   "cell_type": "markdown",
   "id": "b73f2ea0",
   "metadata": {},
   "source": [
    "**Sample Plot image:**\n",
    "<img src='Sample_images/pic6.png' style='width:400px;height:300px'>"
   ]
  },
  {
   "cell_type": "code",
   "execution_count": 125,
   "id": "26088805",
   "metadata": {},
   "outputs": [
    {
     "data": {
      "image/png": "[encoded data removed]",
      "text/plain": [
       "<Figure size 1080x576 with 2 Axes>"
      ]
     },
     "metadata": {},
     "output_type": "display_data"
    }
   ],
   "source": [
    "#Write your code here\n",
    "fig, ax = plt.subplots(figsize=(15,8))\n",
    "\n",
    "# ax.yaxis='Y-axis'\n",
    "corr = df.corr()\n",
    "s = sns.heatmap(corr,xticklabels= corr.columns.values ,yticklabels= corr.columns.values,annot=True)\n",
    "s.set_title('Heatmap Correlation')\n",
    "s.set_xlabel('X-axis')\n",
    "s.set_ylabel('Y-axis')\n",
    "# Plot the Heatmap with axes (ax) and assign the returned object(path collection) to q6\n",
    "q6 = s\n",
    "\n",
    "#Assigning the object to A6 for validation\n",
    "A6=q6"
   ]
  },
  {
   "cell_type": "markdown",
   "id": "a0144e5b",
   "metadata": {},
   "source": [
    "## Question 7"
   ]
  },
  {
   "cell_type": "markdown",
   "id": "399bc083",
   "metadata": {},
   "source": [
    "### Draw the barplot containing Top 10 currency names with highest Market Capital And Assign to A7 variable.\n",
    "   "
   ]
  },
  {
   "cell_type": "markdown",
   "id": "2b6f72ae",
   "metadata": {},
   "source": [
    "**Instructions:**\n",
    "- Use Seaborn\n",
    "- Order the cryptocurrencies is must be in Descending order (i.e,bar corresponding to cryptocurrency with highest market value must be on top of bar plot).\n",
    "- xlabel,ylabel,title must be present\n",
    "- Plot the barplot"
   ]
  },
  {
   "cell_type": "markdown",
   "id": "1d357514",
   "metadata": {},
   "source": [
    "**Sample Plot image:**\n",
    "<img src='Sample_images/pic7.png' style='width:400px;height:300px'>"
   ]
  },
  {
   "cell_type": "code",
   "execution_count": 143,
   "id": "b9f0e74b",
   "metadata": {},
   "outputs": [
    {
     "data": {
      "image/png": "[encoded data removed]",
      "text/plain": [
       "<Figure size 576x576 with 1 Axes>"
      ]
     },
     "metadata": {},
     "output_type": "display_data"
    }
   ],
   "source": [
    "#Write your code here\n",
    "fig7, ax7 = plt.subplots(figsize=(8,8))\n",
    "\n",
    "curr_name = df['Currency_Name'][:10]\n",
    "sb = sns.barplot(y=curr_name,x=df['Market_Capital'],data=df,orient ='h')\n",
    "sb.set_title('Barplot containing Top10 Curreny names with higest market captial')\n",
    "# Plot the countplot with axes (ax7) and assign the returned object(path collection) to q7\n",
    "\n",
    "q7 = sb\n",
    "\n",
    "#Assigning the object,axes to A7 for validation\n",
    "A7=[q7,ax7]"
   ]
  },
  {
   "cell_type": "markdown",
   "id": "d16d88e8",
   "metadata": {},
   "source": [
    "## Question 8"
   ]
  },
  {
   "cell_type": "markdown",
   "id": "01e5e0eb",
   "metadata": {},
   "source": [
    "### Draw the violinplot that represents the graph of Change(24h). And Assign the variable to A8."
   ]
  },
  {
   "cell_type": "markdown",
   "id": "dafaf077",
   "metadata": {},
   "source": [
    "**Instructions:**\n",
    "- Use seaborn\n",
    "- Change(24h) should be in the y-axis\n",
    "- xlabel,ylabel,title must be present\n",
    "- Plot the violinplot\n"
   ]
  },
  {
   "cell_type": "markdown",
   "id": "2439cd2a",
   "metadata": {},
   "source": [
    "**Sample Plot image:**\n",
    "<img src='Sample_images/pic8.png' style='width:400px;height:300px'>"
   ]
  },
  {
   "cell_type": "code",
   "execution_count": 149,
   "id": "09453ad2",
   "metadata": {},
   "outputs": [
    {
     "data": {
      "image/png": "[encoded data removed]",
      "text/plain": [
       "<Figure size 576x576 with 1 Axes>"
      ]
     },
     "metadata": {},
     "output_type": "display_data"
    }
   ],
   "source": [
    "#Write your code here\n",
    "fig8, ax8 = plt.subplots(figsize=(8,8))\n",
    "sv = sns.violinplot(y=df['Change(24h)'])\n",
    "sv.set_title('violinplot for Change(24h)')\n",
    "sv.set_xlabel('X-axis')\n",
    "sv.set_ylabel('Y-axis')\n",
    "# Plot the violinplot with axes (ax8) and assign the returned object(path collection) to q8\n",
    "q8 =sv\n",
    "\n",
    "\n",
    "#Assigning the object to A8 for validation\n",
    "A8=q8\n"
   ]
  },
  {
   "cell_type": "markdown",
   "id": "8204871c",
   "metadata": {},
   "source": [
    "## Question 9"
   ]
  },
  {
   "cell_type": "markdown",
   "id": "1123d159",
   "metadata": {},
   "source": [
    "### Draw a scatterplot that represents the relation between Price and Market Capital. And Assign to A9 variable."
   ]
  },
  {
   "cell_type": "markdown",
   "id": "7adf38d0",
   "metadata": {},
   "source": [
    "**Instructions:**\n",
    "- use seaborn\n",
    "- Consider data as 50 Cryptocurrencies, with higest Market Value\n",
    "- xlabel,ylabel,title must be present\n",
    "- Plot the Scatterplot"
   ]
  },
  {
   "cell_type": "markdown",
   "id": "124bed11",
   "metadata": {},
   "source": [
    "**Sample Plot image:**\n",
    "<img src='Sample_images/pic9.png' style='width:400px;height:300px'>"
   ]
  },
  {
   "cell_type": "code",
   "execution_count": 154,
   "id": "d4bc03b4",
   "metadata": {},
   "outputs": [
    {
     "data": {
      "image/png": "[encoded data removed]",
      "text/plain": [
       "<Figure size 576x576 with 1 Axes>"
      ]
     },
     "metadata": {},
     "output_type": "display_data"
    }
   ],
   "source": [
    "#Write your code here\n",
    "fig9, ax9 = plt.subplots(figsize=(8,8))\n",
    "ss = sns.scatterplot(y=df['Price'],x=df['Market_Capital'])\n",
    "ss.set_title('Scatterplot between Price and Market Capital')\n",
    "# ss.set_xlabel('X-axis')\n",
    "# ss.set_ylabel('Y-axis')\n",
    "# Plot the scatterplot with axes (ax9) and assign the returned object(path collection) to q9\n",
    "\n",
    "\n",
    "q9 = ss\n",
    "\n",
    "\n",
    "#Assigning the object to A9 for validation\n",
    "A9=q9"
   ]
  },
  {
   "cell_type": "markdown",
   "id": "bbdb2a74",
   "metadata": {},
   "source": [
    "## Question 10"
   ]
  },
  {
   "cell_type": "markdown",
   "id": "5d3b75b2",
   "metadata": {},
   "source": [
    "### Draw the barplot containing Top 10 currency names with Change(24h) in descending order And Assign to A10 variable."
   ]
  },
  {
   "cell_type": "markdown",
   "id": "86928efb",
   "metadata": {},
   "source": [
    "**Instructions:**\n",
    "- Use Seaborn\n",
    "- xlabel,ylabel,title must be present\n",
    "- Plot the barplot"
   ]
  },
  {
   "cell_type": "markdown",
   "id": "7583543d",
   "metadata": {},
   "source": [
    "**Sample Plot image:**\n",
    "<img src='Sample_images/pic10.png' style='width:400px;height:300px'>"
   ]
  },
  {
   "cell_type": "code",
   "execution_count": 203,
   "id": "eb0497ea",
   "metadata": {},
   "outputs": [
    {
     "data": {
      "image/png": "[encoded data removed]",
      "text/plain": [
       "<Figure size 576x576 with 1 Axes>"
      ]
     },
     "metadata": {},
     "output_type": "display_data"
    }
   ],
   "source": [
    "#Write your code here\n",
    "fig10, ax10 = plt.subplots(figsize=(8,8))\n",
    "# curr_name = sorted(list(df['Currency_Name'][:10].values),reverse=True)\n",
    "change_df = df.sort_values(by=['Change(24h)'], ascending=False).head(10)\n",
    "curr_name = change_df['Currency_Name']\n",
    "sb2= sns.barplot(y=curr_name,x=df['Change(24h)'],data=df,orient ='h')\n",
    "sb2.set_title('Barplot containing Top10 Curreny names with Change(24h)')\n",
    "sb2.set_xlabel('Change(24h)')\n",
    "sb2.set_ylabel('Currency_Name')\n",
    "# ax10.xaxis='Change(24h)'\n",
    "# Plot the barplot with axes (ax10) and assign the returned object(path collection) to q10\n",
    "q10 = sb2\n",
    "\n",
    "#Assigning the object,axes to A10 for validation\n",
    "A10=[q10,ax10]"
   ]
  },
  {
   "cell_type": "markdown",
   "id": "06c106e1",
   "metadata": {},
   "source": [
    "## Run the below cells to save your output files"
   ]
  },
  {
   "cell_type": "code",
   "execution_count": 205,
   "id": "0c8f7974",
   "metadata": {},
   "outputs": [],
   "source": [
    "import pickle\n",
    "import hashlib\n",
    "\n",
    "def save_output(Top100_List, obj):\n",
    "    with open(Top100_List,'wb')as f:\n",
    "        pickle.dump(obj,f,pickle.HIGHEST_PROTOCOL)   \n",
    "\n",
    "def hashit(obj):\n",
    "        obj = str(obj).encode()\n",
    "        m = hashlib.md5()\n",
    "        m.update(bytes(obj))\n",
    "        return m.hexdigest()\n",
    "\n",
    "##Saving outputs\n",
    "\n",
    "save_output(\"A1.pckl\", A1)\n",
    "save_output(\"A2.pckl\", A2)\n",
    "save_output(\"A3.pckl\", A3)\n",
    "save_output(\"A4.pckl\", A4)\n",
    "save_output(\"A5.pckl\", A5)\n",
    "save_output(\"A6.pckl\", A6)\n",
    "save_output(\"A7.pckl\", A7)\n",
    "save_output(\"A8.pckl\", A8)\n",
    "save_output(\"A9.pckl\", A9)\n",
    "save_output(\"A10.pckl\", A10)\n",
    "\n"
   ]
  },
  {
   "cell_type": "code",
   "execution_count": null,
   "id": "038ccd62",
   "metadata": {},
   "outputs": [],
   "source": []
  }
 ],
 "metadata": {
  "kernelspec": {
   "display_name": "Python 3",
   "language": "python",
   "name": "python3"
  },
  "language_info": {
   "codemirror_mode": {
    "name": "ipython",
    "version": 3
   },
   "file_extension": ".py",
   "mimetype": "text/x-python",
   "name": "python",
   "nbconvert_exporter": "python",
   "pygments_lexer": "ipython3",
   "version": "3.8.8"
  }
 },
 "nbformat": 4,
 "nbformat_minor": 5
}
